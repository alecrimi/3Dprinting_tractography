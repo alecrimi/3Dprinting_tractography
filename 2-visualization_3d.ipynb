{
  "cells": [
    {
      "cell_type": "markdown",
      "metadata": {
        "id": "9F9csWFpzclm"
      },
      "source": [
        "# Part 2. Notebook for Network and Topological Analysis in Neuroscience\n",
        "\n",
        "Authors: Eduarda Centeno & Fernando Santos\n",
        "    \n",
        "This second part of the project will focus on the 3D visualisations we have developed.\n"
      ]
    },
    {
      "cell_type": "markdown",
      "metadata": {
        "id": "NI0bKzFtzclo"
      },
      "source": [
        "## Table of contents\n",
        "1. [Imports](#imports)\n",
        "2. [Short recap - importing data & creating graph object](#short-recap)\n",
        "3. [Creating 3D visualisations with Plotly](#3d-visualisation)\n",
        "4. [Acknowledgements](#acknowledgements)"
      ]
    },
    {
      "cell_type": "markdown",
      "metadata": {
        "id": "M8geqgJQzclp"
      },
      "source": [
        "<a id='imports'></a>\n",
        "###  **1.** Imports"
      ]
    },
    {
      "cell_type": "code",
      "execution_count": 2,
      "metadata": {
        "id": "kXQQ5yvDzclq"
      },
      "outputs": [],
      "source": [
        "# Basic data manipulation and visualisation libraries\n",
        "import numpy as np\n",
        "import matplotlib.pyplot as plt\n",
        "\n",
        "# Network Libraries\n",
        "import networkx as nx\n",
        "\n",
        "# Magic command to load watermark\n",
        "#%load_ext watermark"
      ]
    },
    {
      "cell_type": "code",
      "execution_count": null,
      "metadata": {
        "id": "J3JIdak9zclr"
      },
      "outputs": [],
      "source": [
        "# Print watermark\n",
        "%watermark --author \"Eduarda & Fernando\" --date --time --python --machine --iversion --watermark --packages jupyterlab,notebook"
      ]
    },
    {
      "cell_type": "markdown",
      "metadata": {
        "id": "QNQ5eZ5Uzclr"
      },
      "source": [
        "<a id='short-recap'></a>\n",
        "### **2.** Short recap - importing data & creating graph object"
      ]
    },
    {
      "cell_type": "code",
      "execution_count": null,
      "metadata": {
        "id": "_GR0VgqQzcls"
      },
      "outputs": [],
      "source": [
        "# Import matrix\n",
        "matrix = np.genfromtxt('AveragedMatrix.txt')\n",
        "\n",
        "# Absolutise for further user\n",
        "matrix = abs(matrix)\n",
        "\n",
        "# Creating Graph\n",
        "G = nx.from_numpy_matrix(matrix)\n",
        "\n",
        "# Removing self-loops\n",
        "G.remove_edges_from(list(nx.selfloop_edges(G)))\n",
        "\n",
        "# This function accepts a argument 'distance' that, in correlation-based networks, must be seen as the inverse ...\n",
        "# ... of the weight value. Thus, a high correlation value (e.g. 0.8) means a shorter distance (i.e 0.2).\n",
        "G_distance_dict = {(e1, e2): 1 / abs(weight) for e1, e2, weight in G.edges(data='weight')}\n",
        "\n",
        "# Then add them as attributes to the graph\n",
        "nx.set_edge_attributes(G, G_distance_dict, 'distance')\n",
        "\n",
        "# Create graphs from comparison\n",
        "matrix2 = matrix.copy()\n",
        "matrix3 = matrix.copy()"
      ]
    },
    {
      "cell_type": "markdown",
      "metadata": {
        "id": "KRxCoB9Azcls"
      },
      "source": [
        "#####  **Important!!**\n",
        "Have a look at the following files to check if they match your matrix's regions (they are called internally in the HCP_Data_Vis.py). If not, you will have to create your own files:\n",
        "\n",
        "    a. *_region_names_abbrev.txt\n",
        "    b. HCP_positions.txt\n",
        "    \n",
        "If you are working with matrices that had regions removed (low signal, tumor mask, etc.), you will have to adapt the files above to take that into account. We aim to soon implement a flexible way of removing regions for this notebook, but it's not done yet. Subnetwork 3D plots will also be available soon."
      ]
    },
    {
      "cell_type": "markdown",
      "metadata": {
        "id": "A2C_a9aOzcls"
      },
      "source": [
        "!<a id='3d-visualisation'></a>\n",
        "### **3.** Creating 3D visualisations with Plotly\n",
        "First, we need to import the necessary backup script.\n",
        "Then, it is possible to use a list of values for most of the nodal metrics, e.g., centralities, etc."
      ]
    },
    {
      "cell_type": "code",
      "execution_count": 7,
      "metadata": {
        "id": "xYECqrFxzcls",
        "outputId": "267ad3ff-1423-4407-a272-0c90dfe413e7",
        "colab": {
          "base_uri": "https://localhost:8080/",
          "height": 1000
        }
      },
      "outputs": [
        {
          "output_type": "stream",
          "name": "stdout",
          "text": [
            "Collecting meshio\n",
            "  Downloading meshio-5.3.5-py3-none-any.whl.metadata (11 kB)\n",
            "Requirement already satisfied: numpy>=1.20.0 in /usr/local/lib/python3.10/dist-packages (from meshio) (1.26.4)\n",
            "Requirement already satisfied: rich in /usr/local/lib/python3.10/dist-packages (from meshio) (13.9.4)\n",
            "Requirement already satisfied: markdown-it-py>=2.2.0 in /usr/local/lib/python3.10/dist-packages (from rich->meshio) (3.0.0)\n",
            "Requirement already satisfied: pygments<3.0.0,>=2.13.0 in /usr/local/lib/python3.10/dist-packages (from rich->meshio) (2.18.0)\n",
            "Requirement already satisfied: typing-extensions<5.0,>=4.0.0 in /usr/local/lib/python3.10/dist-packages (from rich->meshio) (4.12.2)\n",
            "Requirement already satisfied: mdurl~=0.1 in /usr/local/lib/python3.10/dist-packages (from markdown-it-py>=2.2.0->rich->meshio) (0.1.2)\n",
            "Downloading meshio-5.3.5-py3-none-any.whl (166 kB)\n",
            "\u001b[?25l   \u001b[90m━━━━━━━━━━━━━━━━━━━━━━━━━━━━━━━━━━━━━━━━\u001b[0m \u001b[32m0.0/166.2 kB\u001b[0m \u001b[31m?\u001b[0m eta \u001b[36m-:--:--\u001b[0m\r\u001b[2K   \u001b[91m━━━━━━━━━━━━━━━━━━━━━━━━━━━━━━━━━━━━━━━\u001b[0m\u001b[90m╺\u001b[0m \u001b[32m163.8/166.2 kB\u001b[0m \u001b[31m4.7 MB/s\u001b[0m eta \u001b[36m0:00:01\u001b[0m\r\u001b[2K   \u001b[90m━━━━━━━━━━━━━━━━━━━━━━━━━━━━━━━━━━━━━━━━\u001b[0m \u001b[32m166.2/166.2 kB\u001b[0m \u001b[31m3.2 MB/s\u001b[0m eta \u001b[36m0:00:00\u001b[0m\n",
            "\u001b[?25hInstalling collected packages: meshio\n",
            "Successfully installed meshio-5.3.5\n"
          ]
        },
        {
          "output_type": "display_data",
          "data": {
            "text/html": [
              "        <script type=\"text/javascript\">\n",
              "        window.PlotlyConfig = {MathJaxConfig: 'local'};\n",
              "        if (window.MathJax && window.MathJax.Hub && window.MathJax.Hub.Config) {window.MathJax.Hub.Config({SVG: {font: \"STIX-Web\"}});}\n",
              "        if (typeof require !== 'undefined') {\n",
              "        require.undef(\"plotly\");\n",
              "        requirejs.config({\n",
              "            paths: {\n",
              "                'plotly': ['https://cdn.plot.ly/plotly-2.35.2.min']\n",
              "            }\n",
              "        });\n",
              "        require(['plotly'], function(Plotly) {\n",
              "            window._Plotly = Plotly;\n",
              "        });\n",
              "        }\n",
              "        </script>\n",
              "        "
            ]
          },
          "metadata": {}
        },
        {
          "output_type": "stream",
          "name": "stderr",
          "text": [
            "/content/HCP_Data_Vis.py:1376: MatplotlibDeprecationWarning:\n",
            "\n",
            "The get_cmap function was deprecated in Matplotlib 3.7 and will be removed two minor releases later. Use ``matplotlib.colormaps[name]`` or ``matplotlib.colormaps.get_cmap(obj)`` instead.\n",
            "\n",
            "/content/HCP_Data_Vis.py:1377: MatplotlibDeprecationWarning:\n",
            "\n",
            "The get_cmap function was deprecated in Matplotlib 3.7 and will be removed two minor releases later. Use ``matplotlib.colormaps[name]`` or ``matplotlib.colormaps.get_cmap(obj)`` instead.\n",
            "\n",
            "/content/HCP_Data_Vis.py:1378: MatplotlibDeprecationWarning:\n",
            "\n",
            "The get_cmap function was deprecated in Matplotlib 3.7 and will be removed two minor releases later. Use ``matplotlib.colormaps[name]`` or ``matplotlib.colormaps.get_cmap(obj)`` instead.\n",
            "\n",
            "/content/HCP_Data_Vis.py:1379: MatplotlibDeprecationWarning:\n",
            "\n",
            "The get_cmap function was deprecated in Matplotlib 3.7 and will be removed two minor releases later. Use ``matplotlib.colormaps[name]`` or ``matplotlib.colormaps.get_cmap(obj)`` instead.\n",
            "\n",
            "/content/HCP_Data_Vis.py:1380: MatplotlibDeprecationWarning:\n",
            "\n",
            "The get_cmap function was deprecated in Matplotlib 3.7 and will be removed two minor releases later. Use ``matplotlib.colormaps[name]`` or ``matplotlib.colormaps.get_cmap(obj)`` instead.\n",
            "\n",
            "/content/HCP_Data_Vis.py:1381: MatplotlibDeprecationWarning:\n",
            "\n",
            "The get_cmap function was deprecated in Matplotlib 3.7 and will be removed two minor releases later. Use ``matplotlib.colormaps[name]`` or ``matplotlib.colormaps.get_cmap(obj)`` instead.\n",
            "\n",
            "/content/HCP_Data_Vis.py:1382: MatplotlibDeprecationWarning:\n",
            "\n",
            "The get_cmap function was deprecated in Matplotlib 3.7 and will be removed two minor releases later. Use ``matplotlib.colormaps[name]`` or ``matplotlib.colormaps.get_cmap(obj)`` instead.\n",
            "\n"
          ]
        },
        {
          "output_type": "error",
          "ename": "FileNotFoundError",
          "evalue": "[Errno 2] No such file or directory: './1000_Functional_Connectomes/Region Names/Baltimore_5560_region_names_abbrev_file.txt'",
          "traceback": [
            "\u001b[0;31m---------------------------------------------------------------------------\u001b[0m",
            "\u001b[0;31mFileNotFoundError\u001b[0m                         Traceback (most recent call last)",
            "\u001b[0;32m/content/HCP_Data_Vis.py\u001b[0m in \u001b[0;36m<module>\u001b[0;34m\u001b[0m\n\u001b[1;32m   1393\u001b[0m \u001b[0;31m# Get names of areas\u001b[0m\u001b[0;34m\u001b[0m\u001b[0;34m\u001b[0m\u001b[0m\n\u001b[1;32m   1394\u001b[0m \u001b[0mn_rois\u001b[0m \u001b[0;34m=\u001b[0m \u001b[0;36m177\u001b[0m \u001b[0;31m# 177 is because of atlas\u001b[0m\u001b[0;34m\u001b[0m\u001b[0;34m\u001b[0m\u001b[0m\n\u001b[0;32m-> 1395\u001b[0;31m \u001b[0mlist_areas\u001b[0m \u001b[0;34m=\u001b[0m \u001b[0mpd\u001b[0m\u001b[0;34m.\u001b[0m\u001b[0mread_csv\u001b[0m\u001b[0;34m(\u001b[0m\u001b[0mpath_areas\u001b[0m\u001b[0;34m,\u001b[0m\u001b[0mheader\u001b[0m\u001b[0;34m=\u001b[0m\u001b[0;32mNone\u001b[0m\u001b[0;34m)\u001b[0m\u001b[0;34m.\u001b[0m\u001b[0mvalues\u001b[0m\u001b[0;34m\u001b[0m\u001b[0;34m\u001b[0m\u001b[0m\n\u001b[0m\u001b[1;32m   1396\u001b[0m \u001b[0mareas\u001b[0m \u001b[0;34m=\u001b[0m \u001b[0;34m[\u001b[0m\u001b[0mlist_areas\u001b[0m\u001b[0;34m[\u001b[0m\u001b[0;36m0\u001b[0m\u001b[0;34m:\u001b[0m\u001b[0mn_rois\u001b[0m\u001b[0;34m,\u001b[0m\u001b[0;36m0\u001b[0m\u001b[0;34m]\u001b[0m\u001b[0;34m[\u001b[0m\u001b[0mi\u001b[0m\u001b[0;34m]\u001b[0m \u001b[0;32mfor\u001b[0m \u001b[0mi\u001b[0m \u001b[0;32min\u001b[0m \u001b[0mrange\u001b[0m\u001b[0;34m(\u001b[0m\u001b[0;36m0\u001b[0m\u001b[0;34m,\u001b[0m\u001b[0mn_rois\u001b[0m\u001b[0;34m)\u001b[0m\u001b[0;34m]\u001b[0m\u001b[0;34m\u001b[0m\u001b[0;34m\u001b[0m\u001b[0m\n\u001b[1;32m   1397\u001b[0m \u001b[0;34m\u001b[0m\u001b[0m\n",
            "\u001b[0;32m/usr/local/lib/python3.10/dist-packages/pandas/io/parsers/readers.py\u001b[0m in \u001b[0;36mread_csv\u001b[0;34m(filepath_or_buffer, sep, delimiter, header, names, index_col, usecols, dtype, engine, converters, true_values, false_values, skipinitialspace, skiprows, skipfooter, nrows, na_values, keep_default_na, na_filter, verbose, skip_blank_lines, parse_dates, infer_datetime_format, keep_date_col, date_parser, date_format, dayfirst, cache_dates, iterator, chunksize, compression, thousands, decimal, lineterminator, quotechar, quoting, doublequote, escapechar, comment, encoding, encoding_errors, dialect, on_bad_lines, delim_whitespace, low_memory, memory_map, float_precision, storage_options, dtype_backend)\u001b[0m\n\u001b[1;32m   1024\u001b[0m     \u001b[0mkwds\u001b[0m\u001b[0;34m.\u001b[0m\u001b[0mupdate\u001b[0m\u001b[0;34m(\u001b[0m\u001b[0mkwds_defaults\u001b[0m\u001b[0;34m)\u001b[0m\u001b[0;34m\u001b[0m\u001b[0;34m\u001b[0m\u001b[0m\n\u001b[1;32m   1025\u001b[0m \u001b[0;34m\u001b[0m\u001b[0m\n\u001b[0;32m-> 1026\u001b[0;31m     \u001b[0;32mreturn\u001b[0m \u001b[0m_read\u001b[0m\u001b[0;34m(\u001b[0m\u001b[0mfilepath_or_buffer\u001b[0m\u001b[0;34m,\u001b[0m \u001b[0mkwds\u001b[0m\u001b[0;34m)\u001b[0m\u001b[0;34m\u001b[0m\u001b[0;34m\u001b[0m\u001b[0m\n\u001b[0m\u001b[1;32m   1027\u001b[0m \u001b[0;34m\u001b[0m\u001b[0m\n\u001b[1;32m   1028\u001b[0m \u001b[0;34m\u001b[0m\u001b[0m\n",
            "\u001b[0;32m/usr/local/lib/python3.10/dist-packages/pandas/io/parsers/readers.py\u001b[0m in \u001b[0;36m_read\u001b[0;34m(filepath_or_buffer, kwds)\u001b[0m\n\u001b[1;32m    618\u001b[0m \u001b[0;34m\u001b[0m\u001b[0m\n\u001b[1;32m    619\u001b[0m     \u001b[0;31m# Create the parser.\u001b[0m\u001b[0;34m\u001b[0m\u001b[0;34m\u001b[0m\u001b[0m\n\u001b[0;32m--> 620\u001b[0;31m     \u001b[0mparser\u001b[0m \u001b[0;34m=\u001b[0m \u001b[0mTextFileReader\u001b[0m\u001b[0;34m(\u001b[0m\u001b[0mfilepath_or_buffer\u001b[0m\u001b[0;34m,\u001b[0m \u001b[0;34m**\u001b[0m\u001b[0mkwds\u001b[0m\u001b[0;34m)\u001b[0m\u001b[0;34m\u001b[0m\u001b[0;34m\u001b[0m\u001b[0m\n\u001b[0m\u001b[1;32m    621\u001b[0m \u001b[0;34m\u001b[0m\u001b[0m\n\u001b[1;32m    622\u001b[0m     \u001b[0;32mif\u001b[0m \u001b[0mchunksize\u001b[0m \u001b[0;32mor\u001b[0m \u001b[0miterator\u001b[0m\u001b[0;34m:\u001b[0m\u001b[0;34m\u001b[0m\u001b[0;34m\u001b[0m\u001b[0m\n",
            "\u001b[0;32m/usr/local/lib/python3.10/dist-packages/pandas/io/parsers/readers.py\u001b[0m in \u001b[0;36m__init__\u001b[0;34m(self, f, engine, **kwds)\u001b[0m\n\u001b[1;32m   1618\u001b[0m \u001b[0;34m\u001b[0m\u001b[0m\n\u001b[1;32m   1619\u001b[0m         \u001b[0mself\u001b[0m\u001b[0;34m.\u001b[0m\u001b[0mhandles\u001b[0m\u001b[0;34m:\u001b[0m \u001b[0mIOHandles\u001b[0m \u001b[0;34m|\u001b[0m \u001b[0;32mNone\u001b[0m \u001b[0;34m=\u001b[0m \u001b[0;32mNone\u001b[0m\u001b[0;34m\u001b[0m\u001b[0;34m\u001b[0m\u001b[0m\n\u001b[0;32m-> 1620\u001b[0;31m         \u001b[0mself\u001b[0m\u001b[0;34m.\u001b[0m\u001b[0m_engine\u001b[0m \u001b[0;34m=\u001b[0m \u001b[0mself\u001b[0m\u001b[0;34m.\u001b[0m\u001b[0m_make_engine\u001b[0m\u001b[0;34m(\u001b[0m\u001b[0mf\u001b[0m\u001b[0;34m,\u001b[0m \u001b[0mself\u001b[0m\u001b[0;34m.\u001b[0m\u001b[0mengine\u001b[0m\u001b[0;34m)\u001b[0m\u001b[0;34m\u001b[0m\u001b[0;34m\u001b[0m\u001b[0m\n\u001b[0m\u001b[1;32m   1621\u001b[0m \u001b[0;34m\u001b[0m\u001b[0m\n\u001b[1;32m   1622\u001b[0m     \u001b[0;32mdef\u001b[0m \u001b[0mclose\u001b[0m\u001b[0;34m(\u001b[0m\u001b[0mself\u001b[0m\u001b[0;34m)\u001b[0m \u001b[0;34m->\u001b[0m \u001b[0;32mNone\u001b[0m\u001b[0;34m:\u001b[0m\u001b[0;34m\u001b[0m\u001b[0;34m\u001b[0m\u001b[0m\n",
            "\u001b[0;32m/usr/local/lib/python3.10/dist-packages/pandas/io/parsers/readers.py\u001b[0m in \u001b[0;36m_make_engine\u001b[0;34m(self, f, engine)\u001b[0m\n\u001b[1;32m   1878\u001b[0m                 \u001b[0;32mif\u001b[0m \u001b[0;34m\"b\"\u001b[0m \u001b[0;32mnot\u001b[0m \u001b[0;32min\u001b[0m \u001b[0mmode\u001b[0m\u001b[0;34m:\u001b[0m\u001b[0;34m\u001b[0m\u001b[0;34m\u001b[0m\u001b[0m\n\u001b[1;32m   1879\u001b[0m                     \u001b[0mmode\u001b[0m \u001b[0;34m+=\u001b[0m \u001b[0;34m\"b\"\u001b[0m\u001b[0;34m\u001b[0m\u001b[0;34m\u001b[0m\u001b[0m\n\u001b[0;32m-> 1880\u001b[0;31m             self.handles = get_handle(\n\u001b[0m\u001b[1;32m   1881\u001b[0m                 \u001b[0mf\u001b[0m\u001b[0;34m,\u001b[0m\u001b[0;34m\u001b[0m\u001b[0;34m\u001b[0m\u001b[0m\n\u001b[1;32m   1882\u001b[0m                 \u001b[0mmode\u001b[0m\u001b[0;34m,\u001b[0m\u001b[0;34m\u001b[0m\u001b[0;34m\u001b[0m\u001b[0m\n",
            "\u001b[0;32m/usr/local/lib/python3.10/dist-packages/pandas/io/common.py\u001b[0m in \u001b[0;36mget_handle\u001b[0;34m(path_or_buf, mode, encoding, compression, memory_map, is_text, errors, storage_options)\u001b[0m\n\u001b[1;32m    871\u001b[0m         \u001b[0;32mif\u001b[0m \u001b[0mioargs\u001b[0m\u001b[0;34m.\u001b[0m\u001b[0mencoding\u001b[0m \u001b[0;32mand\u001b[0m \u001b[0;34m\"b\"\u001b[0m \u001b[0;32mnot\u001b[0m \u001b[0;32min\u001b[0m \u001b[0mioargs\u001b[0m\u001b[0;34m.\u001b[0m\u001b[0mmode\u001b[0m\u001b[0;34m:\u001b[0m\u001b[0;34m\u001b[0m\u001b[0;34m\u001b[0m\u001b[0m\n\u001b[1;32m    872\u001b[0m             \u001b[0;31m# Encoding\u001b[0m\u001b[0;34m\u001b[0m\u001b[0;34m\u001b[0m\u001b[0m\n\u001b[0;32m--> 873\u001b[0;31m             handle = open(\n\u001b[0m\u001b[1;32m    874\u001b[0m                 \u001b[0mhandle\u001b[0m\u001b[0;34m,\u001b[0m\u001b[0;34m\u001b[0m\u001b[0;34m\u001b[0m\u001b[0m\n\u001b[1;32m    875\u001b[0m                 \u001b[0mioargs\u001b[0m\u001b[0;34m.\u001b[0m\u001b[0mmode\u001b[0m\u001b[0;34m,\u001b[0m\u001b[0;34m\u001b[0m\u001b[0;34m\u001b[0m\u001b[0m\n",
            "\u001b[0;31mFileNotFoundError\u001b[0m: [Errno 2] No such file or directory: './1000_Functional_Connectomes/Region Names/Baltimore_5560_region_names_abbrev_file.txt'"
          ]
        }
      ],
      "source": [
        "!pip install meshio\n",
        "%run \"HCP_Data_Vis.py\""
      ]
    },
    {
      "cell_type": "markdown",
      "metadata": {
        "id": "uEv0cysTzclt"
      },
      "source": [
        "#### Creating graphs based on density"
      ]
    },
    {
      "cell_type": "code",
      "execution_count": null,
      "metadata": {
        "id": "lgj1XZ4Ozclt"
      },
      "outputs": [],
      "source": [
        "## Create sparser graphs for visualisation - just try them and compare!\n",
        "# Create sparser graphs based on threshold value\n",
        "matrix2[matrix2<=0.50] = 0\n",
        "matrix3[matrix3<=0.75] = 0\n",
        "\n",
        "st50G = nx.from_numpy_matrix(matrix2)\n",
        "st25G = nx.from_numpy_matrix(matrix3)\n",
        "\n",
        "st50G.remove_edges_from(list(nx.selfloop_edges(st50G)))\n",
        "st25G.remove_edges_from(list(nx.selfloop_edges(st25G)))\n",
        "\n",
        "# Create sparser graphs based on density - 1%, 2.5%, 5% and 10%, respectively\n",
        "sd010G = G_den(matrix, 0.010, verbose=False)\n",
        "sd025G = G_den(matrix, 0.025, verbose=False)\n",
        "sd050G = G_den(matrix, 0.050, verbose=False)\n",
        "sd100G = G_den(matrix, 0.100, verbose=False)"
      ]
    },
    {
      "cell_type": "markdown",
      "metadata": {
        "id": "bhoMCgZZzclt"
      },
      "source": [
        "#### Let's start with the visualisation of pairwise interactions"
      ]
    },
    {
      "cell_type": "code",
      "execution_count": null,
      "metadata": {
        "id": "stFEQkLyzclt"
      },
      "outputs": [],
      "source": [
        "# Create list of values for a property\n",
        "values = listnet(nx.closeness_centrality, G, distance='distance')\n",
        "\n",
        "## Visualisation of nodes according to proprieties\n",
        "# This function will plot the 3D brain with both node size and color according to node_prop\n",
        "Plot_Brain_Prop(node_prop=values, scale=5) # the second parameter is necessary to scale the node size"
      ]
    },
    {
      "cell_type": "code",
      "execution_count": null,
      "metadata": {
        "id": "U728xx6Xzclu"
      },
      "outputs": [],
      "source": [
        "## It is also possible to give a second property, which will change the color of the nodes\n",
        "\n",
        "# Create a list of a second property\n",
        "values_2 = listnet(nx.eigenvector_centrality, G, weight='weight')\n",
        "\n",
        "# Plot 3D brain with node size accoring to values and node colors according to values_2\n",
        "Plot_Brain_Prop(node_prop=values, scale=5, node_colors=values_2)"
      ]
    },
    {
      "cell_type": "code",
      "execution_count": null,
      "metadata": {
        "id": "HsfGxUMCzclu"
      },
      "outputs": [],
      "source": [
        "# We have created a degree-specific function for 3D network plotting.\n",
        "# Node size will always represent the degree/strength, node color can be changed.\n",
        "\n",
        "# Plotting with both size and colors according to degree (or strength if weight is True)\n",
        "degree_3D(st50G, scale=0.1, weight=True)"
      ]
    },
    {
      "cell_type": "code",
      "execution_count": null,
      "metadata": {
        "id": "-4Kecl5jzclu"
      },
      "outputs": [],
      "source": [
        "# Plotting with size according to degree/strength and colors according another property\n",
        "degree_3D(st25G, scale=0.5, weight=True, node_colors=values, color_prop_name='Closeness Centrality')"
      ]
    },
    {
      "cell_type": "code",
      "execution_count": null,
      "metadata": {
        "id": "No_cYmRWzclu"
      },
      "outputs": [],
      "source": [
        "# Visualisation of brain modularity\n",
        "Plot_Brain_Mod(G, scale=0.5)"
      ]
    },
    {
      "cell_type": "code",
      "execution_count": null,
      "metadata": {
        "id": "ZiRkYfsVzclu"
      },
      "outputs": [],
      "source": [
        "# Visualisation of brain network Participation Rank\n",
        "dens_value = 0.01 # for plot title\n",
        "clique_size = 2 # this is a line\n",
        "alpha = 0.1\n",
        "plotclique3dk(sd010G, dens_value, clique_size, alpha) # we will use the sd010G to allow a better/clearer visualisation"
      ]
    },
    {
      "cell_type": "markdown",
      "metadata": {
        "id": "RJWIuA5Azclv"
      },
      "source": [
        "#### Let's now have a look at high-dimensional interactions (TDA)"
      ]
    },
    {
      "cell_type": "code",
      "execution_count": null,
      "metadata": {
        "id": "crtvhdXWzclv"
      },
      "outputs": [],
      "source": [
        "# Visualisation of triangles (or 3-cliques)\n",
        "dens_value = 0.01 # for plot title\n",
        "clique_size = 3 # this is a triangle\n",
        "alpha = 0.1\n",
        "plotclique3dk(sd010G, dens_value, clique_size, alpha)"
      ]
    },
    {
      "cell_type": "code",
      "execution_count": null,
      "metadata": {
        "id": "JR8q96Rpzclv"
      },
      "outputs": [],
      "source": [
        "# Visualisation of tetrahedrons (or 4-cliques)\n",
        "dens_value = 0.025 # for plot title\n",
        "clique_size = 4 # this is a terahedron\n",
        "alpha = 0.05\n",
        "plotclique3dk(sd025G,dens_value, clique_size, alpha)"
      ]
    },
    {
      "cell_type": "code",
      "execution_count": null,
      "metadata": {
        "id": "BWqna9Jdzcly"
      },
      "outputs": [],
      "source": [
        "# Visualisation of Nodal Curvature\n",
        "dens_value = 0.025 # for plot title\n",
        "plotcurv(sd025G, dens_value)"
      ]
    },
    {
      "cell_type": "markdown",
      "metadata": {
        "id": "fOKwZZNWzcly"
      },
      "source": [
        "<a id='acknowledgements'></a>\n",
        "\n",
        "## **4.** Acknowledgements\n",
        "\n",
        "The 1000_Functional_Connectomes dataset was downloaded from the [The UCLA multimodal connectivity database](http://umcd.humanconnectomeproject.org/)."
      ]
    }
  ],
  "metadata": {
    "kernelspec": {
      "display_name": "Python 3",
      "language": "python",
      "name": "python3"
    },
    "language_info": {
      "codemirror_mode": {
        "name": "ipython",
        "version": 3
      },
      "file_extension": ".py",
      "mimetype": "text/x-python",
      "name": "python",
      "nbconvert_exporter": "python",
      "pygments_lexer": "ipython3",
      "version": "3.8.3"
    },
    "colab": {
      "provenance": []
    }
  },
  "nbformat": 4,
  "nbformat_minor": 0
}